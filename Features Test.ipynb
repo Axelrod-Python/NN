{
 "cells": [
  {
   "cell_type": "code",
   "execution_count": 1,
   "metadata": {
    "collapsed": true
   },
   "outputs": [],
   "source": [
    "import features"
   ]
  },
  {
   "cell_type": "code",
   "execution_count": 2,
   "metadata": {
    "collapsed": false
   },
   "outputs": [
    {
     "name": "stdout",
     "output_type": "stream",
     "text": [
      "[0, 0, 0, 0]\n",
      "[1, 0, 0, 0]\n",
      "[1, 0, 1, 0]\n",
      "[1, 0, 1, 0]\n"
     ]
    }
   ],
   "source": [
    "h = ['C'] * 10\n",
    "\n",
    "for i in range(0, 4):\n",
    "    print(features.starting_moves(h, i, 2))"
   ]
  },
  {
   "cell_type": "code",
   "execution_count": 3,
   "metadata": {
    "collapsed": false
   },
   "outputs": [
    {
     "name": "stdout",
     "output_type": "stream",
     "text": [
      "[0, 0, 0, 0]\n",
      "[0, 1, 0, 0]\n",
      "[0, 1, 0, 1]\n",
      "[0, 1, 0, 1]\n"
     ]
    }
   ],
   "source": [
    "h = ['D'] * 10\n",
    "\n",
    "for i in range(0, 4):\n",
    "    print(features.starting_moves(h, i, 2))"
   ]
  },
  {
   "cell_type": "code",
   "execution_count": 4,
   "metadata": {
    "collapsed": false
   },
   "outputs": [
    {
     "name": "stdout",
     "output_type": "stream",
     "text": [
      "[0, 0, 0, 0]\n",
      "[1, 0, 0, 0]\n",
      "[1, 0, 1, 0]\n",
      "[1, 0, 1, 0]\n"
     ]
    }
   ],
   "source": [
    "h = ['C'] * 10\n",
    "\n",
    "for i in range(0, 4):\n",
    "    print(features.trailing_moves(h, i, 2))"
   ]
  },
  {
   "cell_type": "code",
   "execution_count": 5,
   "metadata": {
    "collapsed": false
   },
   "outputs": [
    {
     "name": "stdout",
     "output_type": "stream",
     "text": [
      "[0, 0, 0, 0]\n",
      "[0, 1, 0, 0]\n",
      "[0, 1, 0, 1]\n",
      "[0, 1, 0, 1]\n"
     ]
    }
   ],
   "source": [
    "h = ['D'] * 10\n",
    "\n",
    "for i in range(0, 4):\n",
    "    print(features.trailing_moves(h, i, 2))"
   ]
  },
  {
   "cell_type": "code",
   "execution_count": 6,
   "metadata": {
    "collapsed": false
   },
   "outputs": [
    {
     "name": "stdout",
     "output_type": "stream",
     "text": [
      "0 [0, 0, 0, 0, 0, 0, 0, 0, 0, 0, 0, 0, 0, 0, 0, 0, 0, 0]\n",
      "1 [1, 1, 0, 0, 1, 0, 1, 0, 0, 1, 0, 0, 0, 0, 1, 0, 0, 0]\n",
      "2 [2, 2, 0, 0, 2, 0, 1, 0, 1, 1, 0, 1, 0, 0, 1, 0, 1, 0]\n",
      "3 [3, 3, 0, 0, 3, 0, 1, 0, 1, 1, 0, 1, 0, 0, 1, 0, 1, 0]\n",
      "4 [4, 4, 0, 0, 4, 0, 1, 0, 1, 1, 0, 1, 0, 0, 1, 0, 1, 0]\n",
      "5 [5, 5, 0, 0, 5, 0, 1, 0, 1, 1, 0, 1, 0, 0, 1, 0, 1, 0]\n",
      "6 [6, 6, 0, 0, 6, 0, 1, 0, 1, 1, 0, 1, 0, 0, 1, 0, 1, 0]\n",
      "7 [7, 7, 0, 0, 7, 0, 1, 0, 1, 1, 0, 1, 0, 0, 1, 0, 1, 0]\n",
      "8 [8, 8, 0, 0, 8, 0, 1, 0, 1, 1, 0, 1, 0, 0, 1, 0, 1, 0]\n",
      "9 [9, 9, 0, 0, 9, 0, 1, 0, 1, 1, 0, 1, 0, 0, 1, 0, 1, 0]\n"
     ]
    }
   ],
   "source": [
    "h1 = ['C'] * 10\n",
    "h2 = ['D'] * 10\n",
    "\n",
    "gen = features.extract_features(h1, h2, include_target=True, include_scores=False)\n",
    "\n",
    "for i, l in enumerate(gen):\n",
    "    print(i, l)"
   ]
  },
  {
   "cell_type": "code",
   "execution_count": 7,
   "metadata": {
    "collapsed": false
   },
   "outputs": [
    {
     "name": "stdout",
     "output_type": "stream",
     "text": [
      "0 [0, 0, 0, 0, 0, 0, 0, 0, 0, 0, 0, 0, 0, 0, 0, 0, 0, 0]\n",
      "1 [1, 1, 0, 0, 1, 0, 1, 0, 0, 1, 0, 0, 0, 0, 1, 0, 0, 1]\n",
      "2 [2, 1, 1, 1, 1, 0, 1, 1, 0, 0, 1, 1, 0, 1, 0, 0, 1, 0]\n",
      "3 [3, 2, 1, 1, 2, 0, 1, 1, 0, 1, 0, 0, 1, 0, 1, 1, 0, 1]\n",
      "4 [4, 2, 2, 2, 2, 0, 1, 1, 0, 0, 1, 1, 0, 1, 0, 0, 1, 0]\n",
      "5 [5, 3, 2, 2, 3, 0, 1, 1, 0, 1, 0, 0, 1, 0, 1, 1, 0, 1]\n",
      "6 [6, 3, 3, 3, 3, 0, 1, 1, 0, 0, 1, 1, 0, 1, 0, 0, 1, 0]\n",
      "7 [7, 4, 3, 3, 4, 0, 1, 1, 0, 1, 0, 0, 1, 0, 1, 1, 0, 1]\n"
     ]
    }
   ],
   "source": [
    "h1 = ['C', 'D'] * 4\n",
    "h2 = ['D', 'C'] * 4\n",
    "\n",
    "gen = features.extract_features(h1, h2, include_target=True, include_scores=False)\n",
    "\n",
    "for i, l in enumerate(gen):\n",
    "    print(i, l)"
   ]
  },
  {
   "cell_type": "code",
   "execution_count": null,
   "metadata": {
    "collapsed": true
   },
   "outputs": [],
   "source": []
  }
 ],
 "metadata": {
  "kernelspec": {
   "display_name": "Python [Root]",
   "language": "python",
   "name": "Python [Root]"
  },
  "language_info": {
   "codemirror_mode": {
    "name": "ipython",
    "version": 3
   },
   "file_extension": ".py",
   "mimetype": "text/x-python",
   "name": "python",
   "nbconvert_exporter": "python",
   "pygments_lexer": "ipython3",
   "version": "3.5.2"
  }
 },
 "nbformat": 4,
 "nbformat_minor": 0
}
